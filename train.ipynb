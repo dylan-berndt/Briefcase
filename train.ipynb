{
 "cells": [
  {
   "cell_type": "code",
   "execution_count": 1,
   "metadata": {
    "collapsed": true
   },
   "outputs": [
    {
     "name": "stdout",
     "output_type": "stream",
     "text": [
      "['a', 'b', 'c', 'd', 'e', 'f', 'g', 'h', 'i', 'j', 'k', 'l', 'm', 'n', 'o', 'p', 'q', 'r', 's', 't', 'u', 'v', 'w', 'x', 'y', 'z', 'α', 'β', 'γ', 'δ', 'ε', 'ζ', 'η', 'θ', 'ι', 'κ', 'λ', 'μ', 'ν', 'ξ', 'ο', 'π', 'ρ', 'ς', 'σ', 'τ', 'υ', 'φ', 'χ', 'ψ', 'ω', 'ա', 'բ', 'գ', 'դ', 'ե', 'զ', 'է', 'ը', 'թ', 'ժ', 'ի', 'լ', 'խ', 'ծ', 'կ', 'հ', 'ձ', 'ղ', 'ճ', 'մ', 'յ', 'ն', 'շ', 'ո', 'չ', 'պ', 'ջ', 'ռ', 'ս', 'վ', 'տ', 'ր', 'ց', 'ւ', 'փ', 'ք', 'օ', 'ֆ', 'և', 'а', 'б', 'в', 'г', 'д', 'е', 'ж', 'з', 'и', 'й', 'к', 'л', 'м', 'н', 'о', 'п', 'р', 'с', 'т', 'у', 'ф', 'х', 'ц', 'ч', 'ш', 'щ', 'ъ', 'ы', 'ь', 'э', 'ю', 'я', 'A', 'B', 'C', 'D', 'E', 'F', 'G', 'H', 'I', 'J', 'K', 'L', 'M', 'N', 'O', 'P', 'Q', 'R', 'S', 'T', 'U', 'V', 'W', 'X', 'Y', 'Z', 'Α', 'Β', 'Γ', 'Δ', 'Ε', 'Ζ', 'Η', 'Θ', 'Ι', 'Κ', 'Λ', 'Μ', 'Ν', 'Ξ', 'Ο', 'Π', 'Ρ', 'Σ', 'Σ', 'Τ', 'Υ', 'Φ', 'Χ', 'Ψ', 'Ω', 'Ա', 'Բ', 'Գ', 'Դ', 'Ե', 'Զ', 'Է', 'Ը', 'Թ', 'Ժ', 'Ի', 'Լ', 'Խ', 'Ծ', 'Կ', 'Հ', 'Ձ', 'Ղ', 'Ճ', 'Մ', 'Յ', 'Ն', 'Շ', 'Ո', 'Չ', 'Պ', 'Ջ', 'Ռ', 'Ս', 'Վ', 'Տ', 'Ր', 'Ց', 'Ւ', 'Փ', 'Ք', 'Օ', 'Ֆ', 'ԵՒ', 'А', 'Б', 'В', 'Г', 'Д', 'Е', 'Ж', 'З', 'И', 'Й', 'К', 'Л', 'М', 'Н', 'О', 'П', 'Р', 'С', 'Т', 'У', 'Ф', 'Х', 'Ц', 'Ч', 'Ш', 'Щ', 'Ъ', 'Ы', 'Ь', 'Э', 'Ю', 'Я']\n"
     ]
    }
   ],
   "source": [
    "from model import *\n",
    "from data import *\n",
    "from vis import *"
   ]
  },
  {
   "cell_type": "code",
   "execution_count": 2,
   "outputs": [],
   "source": [
    "config = Config().load(os.path.join(\"configs\", \"config.json\"))"
   ],
   "metadata": {
    "collapsed": false
   }
  },
  {
   "cell_type": "code",
   "execution_count": 3,
   "outputs": [],
   "source": [
    "def itertoolsBetter(dataIter):\n",
    "    while True:\n",
    "        for batch in dataIter:\n",
    "            yield batch"
   ],
   "metadata": {
    "collapsed": false
   }
  },
  {
   "cell_type": "code",
   "execution_count": 4,
   "outputs": [],
   "source": [
    "def trainModel(config, modelClass, datasetClass):\n",
    "    dataset = datasetClass(config.dataset)\n",
    "    model = modelClass(config.model)\n",
    "\n",
    "    optimizer = torch.optim.Adam(model.parameters(), lr=config.learningRate)\n",
    "    objective = nn.MSELoss()\n",
    "\n",
    "    train, test = torch.utils.data.random_split(dataset, [0.8, 0.2])\n",
    "    train = DataLoader(train, batch_size=config.batchSize, shuffle=True)\n",
    "    test = DataLoader(test, batch_size=config.batchSize, shuffle=True)\n",
    "\n",
    "    testIter = itertoolsBetter(test)\n",
    "\n",
    "    client = Client(\"127.0.0.1\", 12954)\n",
    "\n",
    "    try:\n",
    "        for epoch in range(config.epochs):\n",
    "            progress = 0\n",
    "            for inputs, targets in train:\n",
    "                model.train()\n",
    "                optimizer.zero_grad()\n",
    "\n",
    "                outputs = model(inputs)\n",
    "                loss = objective(outputs, targets)\n",
    "\n",
    "                trainLoss = loss.detach().item()\n",
    "\n",
    "                loss.backward()\n",
    "                optimizer.step()\n",
    "\n",
    "                with torch.no_grad():\n",
    "                    model.eval()\n",
    "                    inputs1, targets1 = next(testIter)\n",
    "                    outputs1 = model(inputs1)\n",
    "                    loss1 = objective(outputs1, targets1)\n",
    "\n",
    "                    testLoss = loss1.detach().item()\n",
    "\n",
    "                client.send(\"Train Loss\", trainLoss)\n",
    "                client.send(\"Test Loss\", testLoss)\n",
    "\n",
    "                progress += 1\n",
    "\n",
    "                print(f\"\\r{epoch + 1} | {progress}/{len(train)} | {(progress / len(train)) * 100:.3f}% |  Train Loss: {trainLoss:.2f} | Test Loss: {testLoss:.2f} | Memory: {torch.cuda.memory_allocated()}\", end=\"\")\n",
    "\n",
    "    except KeyboardInterrupt:\n",
    "        latestPath = os.path.join(\"checkpoints\", \"latest\")\n",
    "        if not os.path.exists(os.path.join(\"checkpoints\", \"latest\")):\n",
    "            os.mkdir(latestPath)\n",
    "\n",
    "        stamp = datetime.now().strftime(\"%Y-%m-%d %H-%M\")\n",
    "        timePath = os.path.join(\"checkpoints\", stamp)\n",
    "        if not os.path.exists(timePath):\n",
    "            os.mkdir(timePath)\n",
    "\n",
    "        torch.save(model, os.path.join(latestPath, \"checkpoint.pt\"))\n",
    "        torch.save(model, os.path.join(timePath, \"checkpoint.pt\"))\n",
    "        config.save(os.path.join(latestPath, \"config.json\"))\n",
    "        config.save(os.path.join(timePath, \"config.json\"))\n",
    "        return model"
   ],
   "metadata": {
    "collapsed": false
   }
  },
  {
   "cell_type": "code",
   "execution_count": null,
   "outputs": [
    {
     "name": "stdout",
     "output_type": "stream",
     "text": [
      "data\\fonts\\coure.fon invalid pixel size\n",
      "data\\fonts\\dosapp.fon invalid pixel size\n",
      "data\\fonts\\modern.fon unknown file format\n",
      "data\\fonts\\roman.fon unknown file format\n",
      "data\\fonts\\script.fon unknown file format\n",
      "data\\fonts\\serife.fon invalid pixel size\n",
      "data\\fonts\\smalle.fon invalid pixel size\n",
      "data\\fonts\\sserife.fon invalid pixel size\n",
      "data\\fonts\\vgafix.fon invalid pixel size\n",
      "data\\fonts\\vgaoem.fon invalid pixel size\n",
      "data\\fonts\\vgasys.fon invalid pixel size\n"
     ]
    }
   ],
   "source": [
    "trainModel(config, UNet, FontData)"
   ],
   "metadata": {
    "collapsed": false,
    "pycharm": {
     "is_executing": true
    }
   }
  }
 ],
 "metadata": {
  "kernelspec": {
   "display_name": "Python 3",
   "language": "python",
   "name": "python3"
  },
  "language_info": {
   "codemirror_mode": {
    "name": "ipython",
    "version": 2
   },
   "file_extension": ".py",
   "mimetype": "text/x-python",
   "name": "python",
   "nbconvert_exporter": "python",
   "pygments_lexer": "ipython2",
   "version": "2.7.6"
  }
 },
 "nbformat": 4,
 "nbformat_minor": 0
}
