{
 "cells": [
  {
   "cell_type": "code",
   "execution_count": 1,
   "metadata": {
    "collapsed": true
   },
   "outputs": [],
   "source": [
    "from model import *\n",
    "from data import *\n",
    "from vis import *"
   ]
  },
  {
   "cell_type": "code",
   "execution_count": 2,
   "metadata": {
    "collapsed": false
   },
   "outputs": [],
   "source": [
    "config = Config().load(os.path.join(\"configs\", \"config.json\"))"
   ]
  },
  {
   "cell_type": "code",
   "execution_count": 3,
   "metadata": {
    "collapsed": false
   },
   "outputs": [],
   "source": [
    "def itertoolsBetter(dataIter):\n",
    "    while True:\n",
    "        for batch in dataIter:\n",
    "            yield batch"
   ]
  },
  {
   "cell_type": "code",
   "execution_count": 4,
   "metadata": {},
   "outputs": [],
   "source": [
    "class MarginMSE(nn.Module):\n",
    "    def __init__(self, beta=0.2):\n",
    "        super().__init__()\n",
    "        self.mse = nn.MSELoss()\n",
    "        self.beta = beta\n",
    "\n",
    "    def forward(self, x, yPred, yTrue):\n",
    "        return self.mse(yPred, yTrue) - self.beta * self.mse(x, yPred)"
   ]
  },
  {
   "cell_type": "code",
   "execution_count": 5,
   "metadata": {
    "collapsed": false
   },
   "outputs": [],
   "source": [
    "def trainModel(config, modelClass, datasetClass):\n",
    "    dataset = datasetClass(config.dataset)\n",
    "    model = modelClass(config.model)\n",
    "\n",
    "    optimizer = torch.optim.Adam(model.parameters(), lr=config.learningRate)\n",
    "    # objective = MarginMSE(beta=0.2)\n",
    "    objective = nn.MSELoss()\n",
    "\n",
    "    train, test = torch.utils.data.random_split(dataset, [0.8, 0.2])\n",
    "    train = DataLoader(train, batch_size=config.batchSize, shuffle=True)\n",
    "    test = DataLoader(test, batch_size=config.batchSize, shuffle=True)\n",
    "\n",
    "    testIter = itertoolsBetter(test)\n",
    "\n",
    "    client = Client(\"127.0.0.1\", 12954)\n",
    "\n",
    "    try:\n",
    "        for epoch in range(config.epochs):\n",
    "            progress = 0\n",
    "            for inputs, targets in train:\n",
    "                model.train()\n",
    "                optimizer.zero_grad()\n",
    "\n",
    "                outputs = model(inputs)\n",
    "                loss = objective(outputs, targets)\n",
    "\n",
    "                trainLoss = loss.detach().item()\n",
    "                trainDiff = objective(inputs, outputs).detach().item()\n",
    "\n",
    "                loss.backward()\n",
    "                optimizer.step()\n",
    "\n",
    "                with torch.no_grad():\n",
    "                    model.eval()\n",
    "                    inputs1, targets1 = next(testIter)\n",
    "                    outputs1 = model(inputs1)\n",
    "                    loss1 = objective(outputs1, targets1)\n",
    "\n",
    "                    testLoss = loss1.detach().item()\n",
    "                    testDiff = objective(inputs1, outputs1).detach().item()\n",
    "\n",
    "                client.send(\"Train Loss\", trainLoss)\n",
    "                client.send(\"Test Loss\", testLoss)\n",
    "\n",
    "                client.send(\"Train Diff\", trainDiff)\n",
    "                client.send(\"Test Diff\", testDiff)\n",
    "\n",
    "                progress += 1\n",
    "\n",
    "                print(f\"\\r{epoch + 1} | {progress}/{len(train)} | {(progress / len(train)) * 100:.3f}% |  Train Loss: {trainLoss:.2f} | Test Loss: {testLoss:.2f} | Memory: {torch.cuda.memory_allocated()}\", end=\"\")\n",
    "\n",
    "    except KeyboardInterrupt:\n",
    "        latestPath = os.path.join(\"checkpoints\", \"latest\")\n",
    "        if not os.path.exists(os.path.join(\"checkpoints\", \"latest\")):\n",
    "            os.mkdir(latestPath)\n",
    "\n",
    "        stamp = datetime.now().strftime(\"%Y-%m-%d %H-%M\")\n",
    "        timePath = os.path.join(\"checkpoints\", stamp)\n",
    "        if not os.path.exists(timePath):\n",
    "            os.mkdir(timePath)\n",
    "\n",
    "        torch.save(model, os.path.join(latestPath, \"checkpoint.pt\"))\n",
    "        torch.save(model, os.path.join(timePath, \"checkpoint.pt\"))\n",
    "        config.save(os.path.join(latestPath, \"config.json\"))\n",
    "        config.save(os.path.join(timePath, \"config.json\"))\n",
    "        return model"
   ]
  },
  {
   "cell_type": "code",
   "execution_count": null,
   "metadata": {
    "collapsed": false,
    "pycharm": {
     "is_executing": true
    }
   },
   "outputs": [
    {
     "name": "stdout",
     "output_type": "stream",
     "text": [
      "data\\fonts\\coure.fon invalid pixel size\n",
      "data\\fonts\\dosapp.fon invalid pixel size\n",
      "data\\fonts\\modern.fon unknown file format\n",
      "data\\fonts\\roman.fon unknown file format\n",
      "data\\fonts\\script.fon unknown file format\n",
      "data\\fonts\\serife.fon invalid pixel size\n",
      "data\\fonts\\smalle.fon invalid pixel size\n",
      "data\\fonts\\sserife.fon invalid pixel size\n"
     ]
    }
   ],
   "source": [
    "trainModel(config, UNet, FontData)"
   ]
  }
 ],
 "metadata": {
  "kernelspec": {
   "display_name": "Python 3",
   "language": "python",
   "name": "python3"
  },
  "language_info": {
   "codemirror_mode": {
    "name": "ipython",
    "version": 3
   },
   "file_extension": ".py",
   "mimetype": "text/x-python",
   "name": "python",
   "nbconvert_exporter": "python",
   "pygments_lexer": "ipython3",
   "version": "3.12.10"
  }
 },
 "nbformat": 4,
 "nbformat_minor": 0
}
