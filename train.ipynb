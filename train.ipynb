{
 "cells": [
  {
   "cell_type": "code",
   "execution_count": 1,
   "metadata": {
    "collapsed": true
   },
   "outputs": [],
   "source": [
    "from model import *\n",
    "from data import *\n",
    "from vis import *"
   ]
  },
  {
   "cell_type": "code",
   "execution_count": 2,
   "metadata": {
    "collapsed": false
   },
   "outputs": [],
   "source": [
    "config = Config().load(os.path.join(\"configs\", \"config.json\"))"
   ]
  },
  {
   "cell_type": "code",
   "execution_count": 3,
   "metadata": {
    "collapsed": false
   },
   "outputs": [],
   "source": [
    "def itertoolsBetter(dataIter):\n",
    "    while True:\n",
    "        for batch in dataIter:\n",
    "            yield batch"
   ]
  },
  {
   "cell_type": "code",
   "execution_count": 4,
   "metadata": {},
   "outputs": [],
   "source": [
    "class MarginMSE(nn.Module):\n",
    "    def __init__(self, beta=0.2):\n",
    "        super().__init__()\n",
    "        self.mse = nn.MSELoss()\n",
    "        self.beta = beta\n",
    "\n",
    "    def forward(self, x, yPred, yTrue):\n",
    "        weights = torch.abs(x - yTrue) + self.beta\n",
    "        weights = weights / weights.mean()\n",
    "        return torch.mean(torch.pow(yPred - yTrue, 2) * weights)"
   ]
  },
  {
   "cell_type": "code",
   "execution_count": 5,
   "metadata": {
    "collapsed": false
   },
   "outputs": [],
   "source": [
    "def trainModel(config, modelClass, datasetClass):\n",
    "    dataset = datasetClass(config.dataset)\n",
    "    model = modelClass(config.model)\n",
    "\n",
    "    print(f\"Model has {sum([p.numel() for p in model.parameters()])} parameters\")\n",
    "\n",
    "    optimizer = torch.optim.Adam(model.parameters(), lr=config.learningRate)\n",
    "    # objective = MarginMSE(beta=0.2)\n",
    "    auxiliary = nn.CrossEntropyLoss()\n",
    "    objective = nn.MSELoss()\n",
    "\n",
    "    train, test = torch.utils.data.random_split(dataset, [0.8, 0.2])\n",
    "    train = DataLoader(train, batch_size=config.batchSize, shuffle=True)\n",
    "    test = DataLoader(test, batch_size=config.batchSize, shuffle=True)\n",
    "\n",
    "    testIter = itertoolsBetter(test)\n",
    "\n",
    "    client = Client(\"127.0.0.1\", 12954)\n",
    "\n",
    "    try:\n",
    "        for epoch in range(config.epochs):\n",
    "            progress = 0\n",
    "            for inputs, targets, info in train:\n",
    "                model.train()\n",
    "                optimizer.zero_grad()\n",
    "\n",
    "                outputs, classification = model(inputs)\n",
    "                loss = objective(outputs, targets) + auxiliary(classification, info) * 0.2\n",
    "\n",
    "                trainLoss = loss.detach().item()\n",
    "                trainDiff = objective(inputs, outputs).detach().item()\n",
    "                trainClass = auxiliary(classification, info)\n",
    "\n",
    "                loss.backward()\n",
    "                optimizer.step()\n",
    "\n",
    "                with torch.no_grad():\n",
    "                    model.eval()\n",
    "                    inputs1, targets1, info1 = next(testIter)\n",
    "                    outputs1, classification1 = model(inputs1)\n",
    "                    loss1 = objective(outputs1, targets1)\n",
    "\n",
    "                    testLoss = loss1.detach().item()\n",
    "                    testDiff = objective(inputs1, outputs1).detach().item()\n",
    "                    testClass = auxiliary(classification1, info1)\n",
    "\n",
    "                client.send(\"Train Loss\", trainLoss)\n",
    "                client.send(\"Test Loss\", testLoss)\n",
    "\n",
    "                client.send(\"Train Diff\", trainDiff)\n",
    "                client.send(\"Test Diff\", testDiff)\n",
    "\n",
    "                client.send(\"Train Class\", trainClass)\n",
    "                client.send(\"Test Class\", testClass)\n",
    "\n",
    "                progress += 1\n",
    "\n",
    "                print(f\"\\r{epoch + 1} | {progress}/{len(train)} | {(progress / len(train)) * 100:.3f}% |  Train Loss: {trainLoss:.2f} | Test Loss: {testLoss:.2f} | Memory: {torch.cuda.memory_allocated()}\", end=\"\")\n",
    "\n",
    "    except KeyboardInterrupt:\n",
    "        latestPath = os.path.join(\"checkpoints\", \"latest\")\n",
    "        if not os.path.exists(os.path.join(\"checkpoints\", \"latest\")):\n",
    "            os.mkdir(latestPath)\n",
    "\n",
    "        stamp = datetime.now().strftime(\"%Y-%m-%d %H-%M\")\n",
    "        timePath = os.path.join(\"checkpoints\", stamp)\n",
    "        if not os.path.exists(timePath):\n",
    "            os.mkdir(timePath)\n",
    "\n",
    "        torch.save(model, os.path.join(latestPath, \"checkpoint.pt\"))\n",
    "        torch.save(model, os.path.join(timePath, \"checkpoint.pt\"))\n",
    "        config.save(os.path.join(latestPath, \"config.json\"))\n",
    "        config.save(os.path.join(timePath, \"config.json\"))\n",
    "        return model"
   ]
  },
  {
   "cell_type": "code",
   "execution_count": 6,
   "metadata": {
    "collapsed": false,
    "pycharm": {
     "is_executing": true
    }
   },
   "outputs": [
    {
     "name": "stdout",
     "output_type": "stream",
     "text": [
      "Fonts serialized: 113/333data\\fonts\\coure.fon invalid pixel size\n",
      "Fonts serialized: 117/333data\\fonts\\dosapp.fon invalid pixel size\n",
      "Fonts serialized: 222/333data\\fonts\\modern.fon unknown file format\n",
      "Fonts serialized: 259/333data\\fonts\\roman.fon unknown file format\n",
      "Fonts serialized: 264/333data\\fonts\\script.fon unknown file format\n",
      "Fonts serialized: 288/333data\\fonts\\serife.fon invalid pixel size\n",
      "Fonts serialized: 292/333data\\fonts\\smalle.fon invalid pixel size\n",
      "Fonts serialized: 294/333data\\fonts\\sserife.fon invalid pixel size\n",
      "Fonts serialized: 326/333data\\fonts\\vgafix.fon invalid pixel size\n",
      "Fonts serialized: 327/333data\\fonts\\vgaoem.fon invalid pixel size\n",
      "Fonts serialized: 328/333data\\fonts\\vgasys.fon invalid pixel size\n",
      "Images loaded: 35936/35936"
     ]
    },
    {
     "data": {
      "image/png": "[encoded data removed]",
      "text/plain": [
       "<Figure size 640x480 with 1 Axes>"
      ]
     },
     "metadata": {},
     "output_type": "display_data"
    },
    {
     "name": "stdout",
     "output_type": "stream",
     "text": [
      "Model has 215364 parameters\n",
      "15 | 144/175 | 82.286% |  Train Loss: 0.13 | Test Loss: 0.03 | Memory: 00"
     ]
    },
    {
     "data": {
      "text/plain": [
       "UNet(\n",
       "  (input): Sequential(\n",
       "    (0): Linear(in_features=1, out_features=8, bias=True)\n",
       "    (1): ReLU()\n",
       "  )\n",
       "  (ups): ModuleList(\n",
       "    (0): Up(\n",
       "      (conv): ConvBlock(\n",
       "        (module): Sequential(\n",
       "          (0): Conv2d(32, 8, kernel_size=(3, 3), stride=(1, 1), padding=same)\n",
       "          (1): BatchNorm2d(8, eps=1e-05, momentum=0.1, affine=True, track_running_stats=True)\n",
       "          (2): ReLU()\n",
       "          (3): Conv2d(8, 8, kernel_size=(3, 3), stride=(1, 1), padding=same)\n",
       "          (4): BatchNorm2d(8, eps=1e-05, momentum=0.1, affine=True, track_running_stats=True)\n",
       "          (5): ReLU()\n",
       "          (6): Conv2d(8, 8, kernel_size=(3, 3), stride=(1, 1), padding=same)\n",
       "          (7): BatchNorm2d(8, eps=1e-05, momentum=0.1, affine=True, track_running_stats=True)\n",
       "          (8): ReLU()\n",
       "        )\n",
       "      )\n",
       "      (up): Upsample(scale_factor=2.0, mode='nearest')\n",
       "      (bn): BatchNorm2d(8, eps=1e-05, momentum=0.1, affine=True, track_running_stats=True)\n",
       "      (relu): ReLU()\n",
       "    )\n",
       "    (1): Up(\n",
       "      (conv): ConvBlock(\n",
       "        (module): Sequential(\n",
       "          (0): Conv2d(64, 16, kernel_size=(3, 3), stride=(1, 1), padding=same)\n",
       "          (1): BatchNorm2d(16, eps=1e-05, momentum=0.1, affine=True, track_running_stats=True)\n",
       "          (2): ReLU()\n",
       "          (3): Conv2d(16, 16, kernel_size=(3, 3), stride=(1, 1), padding=same)\n",
       "          (4): BatchNorm2d(16, eps=1e-05, momentum=0.1, affine=True, track_running_stats=True)\n",
       "          (5): ReLU()\n",
       "          (6): Conv2d(16, 16, kernel_size=(3, 3), stride=(1, 1), padding=same)\n",
       "          (7): BatchNorm2d(16, eps=1e-05, momentum=0.1, affine=True, track_running_stats=True)\n",
       "          (8): ReLU()\n",
       "        )\n",
       "      )\n",
       "      (up): Upsample(scale_factor=2.0, mode='nearest')\n",
       "      (bn): BatchNorm2d(16, eps=1e-05, momentum=0.1, affine=True, track_running_stats=True)\n",
       "      (relu): ReLU()\n",
       "    )\n",
       "    (2): Up(\n",
       "      (conv): ConvBlock(\n",
       "        (module): Sequential(\n",
       "          (0): Conv2d(128, 32, kernel_size=(3, 3), stride=(1, 1), padding=same)\n",
       "          (1): BatchNorm2d(32, eps=1e-05, momentum=0.1, affine=True, track_running_stats=True)\n",
       "          (2): ReLU()\n",
       "          (3): Conv2d(32, 32, kernel_size=(3, 3), stride=(1, 1), padding=same)\n",
       "          (4): BatchNorm2d(32, eps=1e-05, momentum=0.1, affine=True, track_running_stats=True)\n",
       "          (5): ReLU()\n",
       "          (6): Conv2d(32, 32, kernel_size=(3, 3), stride=(1, 1), padding=same)\n",
       "          (7): BatchNorm2d(32, eps=1e-05, momentum=0.1, affine=True, track_running_stats=True)\n",
       "          (8): ReLU()\n",
       "        )\n",
       "      )\n",
       "      (up): Upsample(scale_factor=2.0, mode='nearest')\n",
       "      (bn): BatchNorm2d(32, eps=1e-05, momentum=0.1, affine=True, track_running_stats=True)\n",
       "      (relu): ReLU()\n",
       "    )\n",
       "  )\n",
       "  (downs): ModuleList(\n",
       "    (0): Down(\n",
       "      (conv): ConvBlock(\n",
       "        (module): Sequential(\n",
       "          (0): Conv2d(8, 16, kernel_size=(3, 3), stride=(1, 1), padding=same)\n",
       "          (1): BatchNorm2d(16, eps=1e-05, momentum=0.1, affine=True, track_running_stats=True)\n",
       "          (2): ReLU()\n",
       "          (3): Conv2d(16, 16, kernel_size=(3, 3), stride=(1, 1), padding=same)\n",
       "          (4): BatchNorm2d(16, eps=1e-05, momentum=0.1, affine=True, track_running_stats=True)\n",
       "          (5): ReLU()\n",
       "          (6): Conv2d(16, 16, kernel_size=(3, 3), stride=(1, 1), padding=same)\n",
       "          (7): BatchNorm2d(16, eps=1e-05, momentum=0.1, affine=True, track_running_stats=True)\n",
       "          (8): ReLU()\n",
       "        )\n",
       "      )\n",
       "      (down): MaxPool2d(kernel_size=2, stride=2, padding=0, dilation=1, ceil_mode=False)\n",
       "      (bn): BatchNorm2d(16, eps=1e-05, momentum=0.1, affine=True, track_running_stats=True)\n",
       "      (relu): ReLU()\n",
       "      (drop): Dropout(p=0.4, inplace=False)\n",
       "    )\n",
       "    (1): Down(\n",
       "      (conv): ConvBlock(\n",
       "        (module): Sequential(\n",
       "          (0): Conv2d(16, 32, kernel_size=(3, 3), stride=(1, 1), padding=same)\n",
       "          (1): BatchNorm2d(32, eps=1e-05, momentum=0.1, affine=True, track_running_stats=True)\n",
       "          (2): ReLU()\n",
       "          (3): Conv2d(32, 32, kernel_size=(3, 3), stride=(1, 1), padding=same)\n",
       "          (4): BatchNorm2d(32, eps=1e-05, momentum=0.1, affine=True, track_running_stats=True)\n",
       "          (5): ReLU()\n",
       "          (6): Conv2d(32, 32, kernel_size=(3, 3), stride=(1, 1), padding=same)\n",
       "          (7): BatchNorm2d(32, eps=1e-05, momentum=0.1, affine=True, track_running_stats=True)\n",
       "          (8): ReLU()\n",
       "        )\n",
       "      )\n",
       "      (down): MaxPool2d(kernel_size=2, stride=2, padding=0, dilation=1, ceil_mode=False)\n",
       "      (bn): BatchNorm2d(32, eps=1e-05, momentum=0.1, affine=True, track_running_stats=True)\n",
       "      (relu): ReLU()\n",
       "      (drop): Dropout(p=0.4, inplace=False)\n",
       "    )\n",
       "    (2): Down(\n",
       "      (conv): ConvBlock(\n",
       "        (module): Sequential(\n",
       "          (0): Conv2d(32, 64, kernel_size=(3, 3), stride=(1, 1), padding=same)\n",
       "          (1): BatchNorm2d(64, eps=1e-05, momentum=0.1, affine=True, track_running_stats=True)\n",
       "          (2): ReLU()\n",
       "          (3): Conv2d(64, 64, kernel_size=(3, 3), stride=(1, 1), padding=same)\n",
       "          (4): BatchNorm2d(64, eps=1e-05, momentum=0.1, affine=True, track_running_stats=True)\n",
       "          (5): ReLU()\n",
       "          (6): Conv2d(64, 64, kernel_size=(3, 3), stride=(1, 1), padding=same)\n",
       "          (7): BatchNorm2d(64, eps=1e-05, momentum=0.1, affine=True, track_running_stats=True)\n",
       "          (8): ReLU()\n",
       "        )\n",
       "      )\n",
       "      (down): MaxPool2d(kernel_size=2, stride=2, padding=0, dilation=1, ceil_mode=False)\n",
       "      (bn): BatchNorm2d(64, eps=1e-05, momentum=0.1, affine=True, track_running_stats=True)\n",
       "      (relu): ReLU()\n",
       "      (drop): Dropout(p=0.4, inplace=False)\n",
       "    )\n",
       "  )\n",
       "  (out): Linear(in_features=8, out_features=1, bias=True)\n",
       "  (classifier): Sequential(\n",
       "    (0): Linear(in_features=64, out_features=64, bias=True)\n",
       "    (1): ReLU()\n",
       "    (2): Linear(in_features=64, out_features=243, bias=True)\n",
       "  )\n",
       ")"
      ]
     },
     "execution_count": 6,
     "metadata": {},
     "output_type": "execute_result"
    }
   ],
   "source": [
    "trainModel(config, UNet, FontData)"
   ]
  }
 ],
 "metadata": {
  "kernelspec": {
   "display_name": "Python 3",
   "language": "python",
   "name": "python3"
  },
  "language_info": {
   "codemirror_mode": {
    "name": "ipython",
    "version": 3
   },
   "file_extension": ".py",
   "mimetype": "text/x-python",
   "name": "python",
   "nbconvert_exporter": "python",
   "pygments_lexer": "ipython3",
   "version": "3.12.10"
  }
 },
 "nbformat": 4,
 "nbformat_minor": 0
}
