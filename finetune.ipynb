{
 "cells": [
  {
   "cell_type": "code",
   "execution_count": null,
   "metadata": {
    "vscode": {
     "languageId": "plaintext"
    }
   },
   "outputs": [],
   "source": [
    "from utils import *"
   ]
  },
  {
   "cell_type": "code",
   "execution_count": null,
   "metadata": {
    "vscode": {
     "languageId": "plaintext"
    }
   },
   "outputs": [],
   "source": [
    "def itertoolsBetter(dataIter):\n",
    "    while True:\n",
    "        for batch in dataIter:\n",
    "            yield batch"
   ]
  },
  {
   "cell_type": "code",
   "execution_count": null,
   "metadata": {
    "vscode": {
     "languageId": "plaintext"
    }
   },
   "outputs": [],
   "source": [
    "class ContrastiveLoss(nn.Module):\n",
    "\tdef __init__(self, temperature=0.1):\n",
    "\t\tself.entropy = nn.CrossEntropyLoss()\n",
    "\t\tself.temperature = temperature\n",
    "\n",
    "\tdef forward(self, y1, y2):\n",
    "\t\tlogits = y1 @ y2.t()\n",
    "\t\tlabels = torch.arange(len(y1))\n",
    "\n",
    "\t\treturn self.entropy(logits / self.temperature, labels)"
   ]
  },
  {
   "cell_type": "code",
   "execution_count": null,
   "metadata": {
    "vscode": {
     "languageId": "plaintext"
    }
   },
   "outputs": [],
   "source": [
    "def saveToPath(path, imageModel, textModel, config, experimentName):\n",
    "\tif not os.path.exists(os.path.join(path, experimentName)):\n",
    "\t\tos.mkdir(os.path.join(path, experimentName))\n",
    "\t\n",
    "\ttorch.save(imageModel.state_dict(), os.path.join(path, experimentName, \"image.pt\"))\n",
    "\ttorch.save(textModel.state_dict(), os.path.join(path, experimentName, \"text.pt\"))\n",
    "\tconfig.save(os.path.join(path, experimentName, \"config.json\"))"
   ]
  },
  {
   "cell_type": "code",
   "execution_count": null,
   "metadata": {
    "vscode": {
     "languageId": "plaintext"
    }
   },
   "outputs": [],
   "source": [
    "def trainModel(config, textModelClass, imageModel, datasetClass, experimentName, start):\n",
    "    dataset = datasetClass(config.dataset)\n",
    "\ttextModel = textModelClass(config.textModel)\n",
    "\n",
    "    print(f\"Model has {sum([p.numel() for p in model.parameters()])} parameters\")\n",
    "\n",
    "    optimizer = torch.optim.Adam(model.parameters(), lr=config.learningRate)\n",
    "\n",
    "    objective = ContrastiveLoss()\n",
    "\n",
    "    train, test = torch.utils.data.random_split(dataset, [0.8, 0.2], generator=torch.Generator(device=device))\n",
    "    train = DataLoader(train, batch_size=config.batchSize, shuffle=True, collate_fn=dataset.collate, generator=torch.Generator(device=device))\n",
    "    test = DataLoader(test, batch_size=config.batchSize, shuffle=True, collate_fn=dataset.collate, generator=torch.Generator(device=device))\n",
    "\n",
    "    testIter = itertoolsBetter(test)\n",
    "\n",
    "    client = Client(\"127.0.0.1\", 12954)\n",
    "\n",
    "    try:\n",
    "        for epoch in range(config.epochs):\n",
    "            progress = 0\n",
    "            for images, targets, info, text in train:\n",
    "                model.train()\n",
    "                optimizer.zero_grad()\n",
    "\n",
    "                imageOutputs = imageModel(images)\n",
    "\t\t\t\ttextOutputs = textModel(text)\n",
    "                loss = objective(imageOutputs, textOutputs)\n",
    "\n",
    "                trainLoss = loss.detach().item()\n",
    "\n",
    "                loss.backward()\n",
    "                optimizer.step()\n",
    "\n",
    "                with torch.no_grad():\n",
    "                    model.eval()\n",
    "                    images1, targets1, info1, text1 = next(testIter)\n",
    "                    imageOutputs1 = imageModel(images1)\n",
    "\t\t\t\t\ttextOutputs1 = textModel(text1)\n",
    "                    loss1 = objective(imageOutputs1, textOutputs1)\n",
    "\n",
    "                    testLoss = loss1.detach().item()\n",
    "\n",
    "                client.send(\"Train Loss\", trainLoss)\n",
    "                client.send(\"Test Loss\", testLoss)\n",
    "\n",
    "                progress += 1\n",
    "\n",
    "                print(f\"\\r{epoch + 1} | {progress}/{len(train)} | {(progress / len(train)) * 100:.3f}% |  Train Loss: {trainLoss:.2f} | Test Loss: {testLoss:.2f}\", end=\"\")\n",
    "\n",
    "    except KeyboardInterrupt:\n",
    "        latestPath = os.path.join(\"checkpoints\", \"finetune\", \"latest\")\n",
    "        if not os.path.exists(os.path.join(\"checkpoints\", \"finetune\", \"latest\")):\n",
    "            os.mkdir(latestPath)\n",
    "\n",
    "        stamp = start.strftime(\"%Y-%m-%d %H-%M\")\n",
    "        timePath = os.path.join(\"checkpoints\", \"finetune\", stamp)\n",
    "        if not os.path.exists(timePath):\n",
    "            os.mkdir(timePath)\n",
    "\n",
    "\t\tsaveToPath(latestPath, imageModel, textModel, config, experimentName)\n",
    "\t\tsaveToPath(timePath, imageModel, textModel, config, experimentName)\n",
    "\n",
    "        return imageModel, textModel"
   ]
  },
  {
   "cell_type": "code",
   "execution_count": null,
   "metadata": {
    "vscode": {
     "languageId": "plaintext"
    }
   },
   "outputs": [],
   "source": []
  }
 ],
 "metadata": {
  "language_info": {
   "name": "python"
  }
 },
 "nbformat": 4,
 "nbformat_minor": 2
}
