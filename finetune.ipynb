{
 "cells": [
  {
   "cell_type": "code",
   "execution_count": 1,
   "metadata": {
    "collapsed": true
   },
   "outputs": [],
   "source": [
    "from utils import *"
   ]
  },
  {
   "cell_type": "code",
   "execution_count": 2,
   "metadata": {
    "collapsed": false
   },
   "outputs": [],
   "source": [
    "def itertoolsBetter(dataIter):\n",
    "    while True:\n",
    "        for batch in dataIter:\n",
    "            yield batch"
   ]
  },
  {
   "cell_type": "code",
   "execution_count": 3,
   "metadata": {
    "collapsed": false
   },
   "outputs": [],
   "source": [
    "class ContrastiveLoss(nn.Module):\n",
    "    def __init__(self, temperature=0.1):\n",
    "        super().__init__()\n",
    "        self.entropy = nn.CrossEntropyLoss()\n",
    "        self.temperature = temperature\n",
    "\n",
    "    def forward(self, y1, y2):\n",
    "        logits = y1 @ y2.t()\n",
    "        labels = torch.arange(len(y1))\n",
    "\n",
    "        return self.entropy(logits / self.temperature, labels)"
   ]
  },
  {
   "cell_type": "code",
   "execution_count": 4,
   "outputs": [],
   "source": [
    "def saveExperiment(imageModel, textModel, config, experimentName, start):\n",
    "    latestPath = os.path.join(\"checkpoints\", \"finetune\", \"latest\")\n",
    "    if not os.path.exists(os.path.join(\"checkpoints\", \"finetune\", \"latest\")):\n",
    "        os.mkdir(latestPath)\n",
    "\n",
    "    stamp = start.strftime(\"%Y-%m-%d %H-%M\")\n",
    "    timePath = os.path.join(\"checkpoints\", \"finetune\", stamp)\n",
    "    if not os.path.exists(timePath):\n",
    "        os.mkdir(timePath)\n",
    "\n",
    "    saveToPath(latestPath, imageModel, textModel, config, experimentName)\n",
    "    saveToPath(timePath, imageModel, textModel, config, experimentName)\n",
    "\n",
    "\n",
    "def saveToPath(path, imageModel, textModel, config, experimentName):\n",
    "    if not os.path.exists(os.path.join(path, experimentName)):\n",
    "        os.mkdir(os.path.join(path, experimentName))\n",
    "\n",
    "    torch.save(imageModel.state_dict(), os.path.join(path, experimentName, \"image.pt\"))\n",
    "    torch.save(textModel.state_dict(), os.path.join(path, experimentName, \"text.pt\"))\n",
    "    config.save(os.path.join(path, experimentName, \"config.json\"))"
   ],
   "metadata": {
    "collapsed": false
   }
  },
  {
   "cell_type": "code",
   "execution_count": 5,
   "outputs": [],
   "source": [
    "def trainModel(config, textModel, imageModel, dataset, experimentName, start, imageConfig):\n",
    "    imageOptimizer = torch.optim.Adam(imageModel.parameters(), lr=config.imageLearningRate)\n",
    "    textOptimizer = torch.optim.Adam(imageModel.parameters(), lr=config.textLearningRate)\n",
    "\n",
    "    objective = ContrastiveLoss(temperature=1)\n",
    "\n",
    "    train, test = dataset.split(dataset, batchSize=config.batchSize)\n",
    "\n",
    "    testIter = itertoolsBetter(test)\n",
    "\n",
    "    client = Client(\"127.0.0.1\", 12954)\n",
    "\n",
    "    try:\n",
    "        for epoch in range(config.epochs):\n",
    "            progress = 0\n",
    "            for images, targets, info, text in train:\n",
    "                imageModel.train()\n",
    "                textModel.train()\n",
    "                imageOptimizer.zero_grad()\n",
    "                textOptimizer.zero_grad()\n",
    "\n",
    "                imageOutputs = imageModel(images)\n",
    "                textOutputs = textModel(**text).pooler_output\n",
    "                loss = objective(imageOutputs, textOutputs)\n",
    "\n",
    "                trainLoss = loss.detach().item()\n",
    "\n",
    "                loss.backward()\n",
    "                textOptimizer.step()\n",
    "                imageOptimizer.step()\n",
    "\n",
    "                with torch.no_grad():\n",
    "                    imageModel.eval()\n",
    "                    textModel.eval()\n",
    "                    images1, targets1, info1, text1 = next(testIter)\n",
    "                    imageOutputs1 = imageModel(images1)\n",
    "                    textOutputs1 = textModel(**text1).pooler_output\n",
    "                    loss1 = objective(imageOutputs1, textOutputs1)\n",
    "\n",
    "                    testLoss = loss1.detach().item()\n",
    "\n",
    "                client.send(\"Train Loss\", trainLoss)\n",
    "                client.send(\"Test Loss\", testLoss)\n",
    "\n",
    "                progress += 1\n",
    "\n",
    "                progressString = f\"\\r{epoch + 1} | {progress}/{len(train)} | {(progress / len(train)) * 100:.3f}%\"\n",
    "\n",
    "                print(f\"{progressString} |  Train Loss: {trainLoss:.2f} | Test Loss: {testLoss:.2f}\",end=\"\")\n",
    "\n",
    "    except KeyboardInterrupt:\n",
    "        saveExperiment(imageModel, textModel, imageConfig, experimentName, start)\n",
    "\n",
    "        return imageModel, textModel\n",
    "\n",
    "    saveExperiment(imageModel, textModel, imageConfig, experimentName, start)\n",
    "    return imageModel, textModel"
   ],
   "metadata": {
    "collapsed": false
   }
  },
  {
   "cell_type": "code",
   "execution_count": 6,
   "outputs": [],
   "source": [
    "queryConfig = Config().load(os.path.join(\"configs\", \"querying.json\"))"
   ],
   "metadata": {
    "collapsed": false
   }
  },
  {
   "cell_type": "code",
   "execution_count": null,
   "outputs": [
    {
     "name": "stdout",
     "output_type": "stream",
     "text": [
      "Fonts serialized: 1821/3794google\\fonts\\ofl\\kumarone\\KumarOne-Regular.ttf execution context too long\n",
      "Fonts serialized: 2335/3794google\\fonts\\ofl\\notocoloremojicompattest\\NotoColorEmojiCompatTest-Regular.ttf invalid pixel size\n",
      "Fonts serialized: 3702/3794google\\fonts\\ofl\\zcoolxiaowei\\ZCOOLXiaoWei-Regular.ttf [Errno 22] Invalid argument: 'google\\\\bitmaps\\\\????? ?? al.bmp'\n",
      "Images loaded: 266201/266219\n",
      "Paths checked: 1301/3620google\\fonts\\ofl\\notocoloremojicompattest\\NotoColorEmojiCompatTest-Regular.ttf invalid pixel size\n",
      "Paths checked: 2101/3620google\\fonts\\ofl\\mplusrounded1c ['Rounded Mplus 1c', 'Rounded Mplus 1c Bold', 'Rounded Mplus 1c', 'Rounded Mplus 1c', 'Rounded Mplus 1c', 'Rounded Mplus 1c', 'Rounded Mplus 1c']\n",
      "Paths checked: 3601/3620\n",
      "98.49% of fonts have descriptions\n",
      "\n",
      "============================\n",
      "lower openai-clip-vit-base-patch32\n",
      "============================\n",
      "1 | 19/1607 | 1.182% |  Train Loss: 10.52 | Test Loss: 10.77"
     ]
    }
   ],
   "source": [
    "imageModelNames = [\"lower\", \"upper\", \"masked\", \"CLIP\"]\n",
    "textModels = [CLIPTextModel, BertModel]\n",
    "textModelNames = [\"openai/clip-vit-base-patch32\", \"bert-base-uncased\"]\n",
    "\n",
    "imageModel, imageConfig = UNet.load(os.path.join(\"checkpoints\", \"pretrain\", \"upper\"))\n",
    "\n",
    "imageConfig.dataset.directory = \"google\"\n",
    "dataset = QueryData(imageConfig.dataset)\n",
    "\n",
    "for t, textModelName in enumerate(textModelNames):\n",
    "    dataset.setTokenizer(textModelName)\n",
    "    textModel = textModels[t].from_pretrained(textModelName)\n",
    "    cfg = AutoConfig.from_pretrained(textModelName)\n",
    "    if hasattr(cfg, \"hidden_size\"):\n",
    "        textDimension = cfg.hidden_size\n",
    "    else:\n",
    "        textDimension = cfg.projection_dim\n",
    "\n",
    "    for i, imageModelName in enumerate(imageModelNames):\n",
    "        if imageModelName == \"CLIP\":\n",
    "            imageConfig.model[\"textProjection\"] = textDimension\n",
    "            imageModel = CLIPEmbedder(imageConfig.model)\n",
    "        else:\n",
    "            imageModel, imageConfig = UNet.load(os.path.join(\"checkpoints\", \"pretrain\", \"upper\"))\n",
    "            imageConfig.model[\"textProjection\"] = textDimension\n",
    "            currentDim = imageConfig.model.filters * imageConfig.model.expansion ** imageConfig.model.layers\n",
    "            imageModel.classifier = nn.Linear(currentDim, textDimension)\n",
    "\n",
    "        if \"method\" in imageConfig.dataset:\n",
    "            dataset.method = imageConfig.dataset.method\n",
    "\n",
    "        if imageModelName == \"CLIP\":\n",
    "            dataset.method = \"masked\"\n",
    "\n",
    "        experimentName = imageModelName + \" \" + textModelName.replace(\"/\", \"-\")\n",
    "\n",
    "        if hasattr(imageModel, \"outputType\"):\n",
    "            imageModel.outputType = \"pooled\"\n",
    "\n",
    "        print(f\"\\n{'=' * 28}\\n{experimentName}\\n{'=' * 28}\")\n",
    "\n",
    "        imageModel, textModel = trainModel(queryConfig, textModel, imageModel, dataset, experimentName, datetime.now(), imageConfig)\n",
    "\n",
    "        saveExperiment(imageModel, textModel, queryConfig, experimentName, datetime.now())"
   ],
   "metadata": {
    "collapsed": false,
    "pycharm": {
     "is_executing": true
    }
   }
  }
 ],
 "metadata": {
  "kernelspec": {
   "display_name": "venv",
   "language": "python",
   "name": "venv"
  },
  "language_info": {
   "codemirror_mode": {
    "name": "ipython",
    "version": 3
   },
   "file_extension": ".py",
   "mimetype": "text/x-python",
   "name": "python",
   "nbconvert_exporter": "python",
   "pygments_lexer": "ipython3",
   "version": "3.12.10"
  }
 },
 "nbformat": 4,
 "nbformat_minor": 0
}
